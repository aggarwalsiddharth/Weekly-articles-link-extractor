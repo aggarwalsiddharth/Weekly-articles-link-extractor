{
 "cells": [
  {
   "cell_type": "markdown",
   "id": "41d89f9e",
   "metadata": {},
   "source": [
    "### Imports"
   ]
  },
  {
   "cell_type": "code",
   "execution_count": 12,
   "id": "144a06c1",
   "metadata": {},
   "outputs": [],
   "source": [
    "import requests\n",
    "from bs4 import BeautifulSoup\n",
    "import numpy as np\n",
    "from datetime import date"
   ]
  },
  {
   "cell_type": "markdown",
   "id": "7d5a9728",
   "metadata": {},
   "source": [
    "### Loading the date and finding closest date for NYT & Economist"
   ]
  },
  {
   "cell_type": "code",
   "execution_count": 13,
   "id": "bb41f745",
   "metadata": {},
   "outputs": [],
   "source": [
    "# This was manually written for NYT\n",
    "month_dates = {\n",
    "    1 : [14,21,28],\n",
    "    2 : [4,11,18,25],\n",
    "    3 : [4,11,18,25],\n",
    "    4 : [1,8,15,22,29],\n",
    "    5 : [6,13,20,27],\n",
    "}"
   ]
  },
  {
   "cell_type": "code",
   "execution_count": 14,
   "id": "aa2a8de9",
   "metadata": {},
   "outputs": [],
   "source": [
    "today = date.today()\n",
    "closest_day = month_dates[today.month][np.argwhere(np.asfarray(np.array(month_dates[today.month]) <= today.day)==1).max()]"
   ]
  },
  {
   "cell_type": "markdown",
   "id": "a89ac37d",
   "metadata": {},
   "source": [
    "##  THE ECONOMIST"
   ]
  },
  {
   "cell_type": "code",
   "execution_count": 15,
   "id": "6bfae4e8",
   "metadata": {},
   "outputs": [],
   "source": [
    "economist_day = closest_day+1\n",
    "url = f'https://www.economist.com/weeklyedition/2022-{month_link}-{economist_day}'\n",
    "re = requests.get(url)\n",
    "\n",
    "# Load in beautifulSoup\n",
    "soup = BeautifulSoup(re.content, 'html.parser')"
   ]
  },
  {
   "cell_type": "code",
   "execution_count": 16,
   "id": "64cabaa1",
   "metadata": {},
   "outputs": [
    {
     "name": "stdout",
     "output_type": "stream",
     "text": [
      "=HYPERLINK(\"https://12ft.io/https://www.economist.com/leaders/2022/01/22/the-parable-of-boris-johnson\",\"British politicsThe parable of Boris Johnson\")\n",
      "=HYPERLINK(\"https://12ft.io/https://www.economist.com/leaders/2022/01/22/big-techs-supersized-ambitions\",\"The future of technologySupersized ambitions\")\n",
      "=HYPERLINK(\"https://12ft.io/https://www.economist.com/leaders/2022/01/22/momentum-is-building-for-war-in-ukraine\",\"Russia and UkraineMomentum is building for war\")\n",
      "=HYPERLINK(\"https://12ft.io/https://www.economist.com/leaders/2022/01/22/the-rising-cost-of-chinas-property-and-pandemic-curbs\",\"China’s economyFrom hero to zero\")\n",
      "=HYPERLINK(\"https://12ft.io/https://www.economist.com/leaders/2022/01/22/introducing-our-new-culture-section\",\"Culture and its discontentsFood for thought\")\n",
      "=HYPERLINK(\"https://12ft.io/https://www.economist.com/letters/2022/01/22/letters-to-the-editor\",\"Letters to the editorOn Hong Kong, Chicago, voting reform, north-south divisions, the metaverse\")\n",
      "=HYPERLINK(\"https://12ft.io/https://www.economist.com/briefing/2022/01/22/what-americas-largest-technology-firms-are-investing-in\",\"Technology and innovationBig tech’s private passions\")\n",
      "=HYPERLINK(\"https://12ft.io/https://www.economist.com/asia/2022/01/22/the-damage-from-tongas-volcanic-eruption-is-still-unclear\",\"Tonga’s volcanic eruptionA kingdom cut off\")\n",
      "=HYPERLINK(\"https://12ft.io/https://www.economist.com/asia/2022/01/20/both-main-candidates-for-the-south-korean-presidency-are-reviled\",\"South Korea’s presidential electionMud on mud\")\n",
      "=HYPERLINK(\"https://12ft.io/https://www.economist.com/asia/2022/01/22/virat-kohli-indias-cricket-captain-was-more-than-a-sporting-hero\",\"Cricket in IndiaA captain walks\")\n",
      "=HYPERLINK(\"https://12ft.io/https://www.economist.com/asia/2022/01/22/asias-holiday-spots-are-missing-chinese-visitors\",\"BanyanYear of the absent tiger\")\n",
      "=HYPERLINK(\"https://12ft.io/https://www.economist.com/china/2022/01/22/how-chinese-propaganda-films-became-watchable\",\"Art and partyHow propaganda became watchable\")\n",
      "=HYPERLINK(\"https://12ft.io/https://www.economist.com/united-states/staffing-shortages-in-america-are-a-glimpse-into-its-future/21807256\",\"Labour shortagesHelp wanted, now and in the future\")\n",
      "=HYPERLINK(\"https://12ft.io/https://www.economist.com/united-states/2022/01/22/the-supreme-court-looks-askance-at-bostons-refusal-to-fly-a-christian-flag\",\"Flags and free speechPole dance\")\n",
      "=HYPERLINK(\"https://12ft.io/https://www.economist.com/united-states/joe-bidens-voting-rights-push-is-futile-and-misguided/21807230\",\"Voting rights and wrongsOne mistake after another\")\n",
      "=HYPERLINK(\"https://12ft.io/https://www.economist.com/united-states/2022/01/22/a-new-barbie-doll-commemorates-a-19th-century-suffragist\",\"Heroic BarbieA new Barbie doll commemorates a 19th-century suffragist\")\n",
      "=HYPERLINK(\"https://12ft.io/https://www.economist.com/united-states/2022/01/22/is-america-exceptionally-good-or-exceptionally-bad\",\"Evaluating AmericaThe worst or the best?\")\n",
      "=HYPERLINK(\"https://12ft.io/https://www.economist.com/united-states/2022/01/22/merrick-garland-and-his-critics\",\"LexingtonMerrick Garland and his critics\")\n",
      "=HYPERLINK(\"https://12ft.io/https://www.economist.com/middle-east-and-africa/the-arab-world-is-re-embracing-its-jews/21807243\",\"Jews in the Arab worldWelcome back\")\n",
      "=HYPERLINK(\"https://12ft.io/https://www.economist.com/middle-east-and-africa/2022/01/22/south-africa-the-worlds-coal-junkie-tries-to-quit\",\"Coal in South AfricaSoot, loot, reboot\")\n",
      "=HYPERLINK(\"https://12ft.io/https://www.economist.com/middle-east-and-africa/2022/01/22/nigerias-conservative-north-is-overflowing-with-aphrodisiacs\",\"Nigeria’s sex industryPotions for prudes\")\n",
      "=HYPERLINK(\"https://12ft.io/https://www.economist.com/the-americas/2022/01/22/bills-be-damned-mexicos-president-decrees-better-health-care\",\"Health care in MexicoBills be damned\")\n",
      "=HYPERLINK(\"https://12ft.io/https://www.economist.com/the-americas/2022/01/22/ecuadors-president-is-expanding-the-galapagos-islands-reserve\",\"EcuadorProtecting the deep blue sea\")\n",
      "=HYPERLINK(\"https://12ft.io/https://www.economist.com/europe/what-are-russias-military-options-in-ukraine/21807240\",\"Russia and UkraineThe guns of January\")\n",
      "=HYPERLINK(\"https://12ft.io/https://www.economist.com/europe/2022/01/22/emmanuel-macrons-rivals-are-less-eurosceptic-than-before\",\"France and EuropeAn ever-closer union\")\n",
      "=HYPERLINK(\"https://12ft.io/https://www.economist.com/europe/austria-and-germany-struggle-to-impose-a-national-vaccine-mandate/21807228\",\"Vaccine mandatesMust you be jabbed?\")\n",
      "=HYPERLINK(\"https://12ft.io/https://www.economist.com/europe/2022/01/22/the-nordic-left-is-back-in-charge\",\"The Nordic leftBack in charge\")\n",
      "=HYPERLINK(\"https://12ft.io/https://www.economist.com/europe/2022/01/22/friedrich-merz-takes-over-as-leader-of-germanys-christian-democrats\",\"Friedrich MerzA not very new broom\")\n",
      "=HYPERLINK(\"https://12ft.io/https://www.economist.com/britain/boris-johnsons-broken-premiership/21807270\",\"Boris JohnsonThe price of survival\")\n",
      "=HYPERLINK(\"https://12ft.io/https://www.economist.com/britain/2022/01/22/tory-mps-love-to-hate-the-bbc-but-tory-voters-love-to-watch-it\",\"The Conservatives and the BBCTelly addicts\")\n",
      "=HYPERLINK(\"https://12ft.io/https://www.economist.com/britain/2022/01/22/britains-vellum-industry-is-booming-quietly\",\"Old craftsGoing, going, not gone\")\n",
      "=HYPERLINK(\"https://12ft.io/https://www.economist.com/international/2022/01/22/divorce-in-the-rich-world-is-getting-less-nasty\",\"Divorce in the rich worldBreaking up is less hard to do\")\n",
      "=HYPERLINK(\"https://12ft.io/https://www.economist.com/business/2022/01/22/can-china-create-a-world-beating-ai-industry\",\"Artificial intelligenceIn search of mastery\")\n",
      "=HYPERLINK(\"https://12ft.io/https://www.economist.com/business/2022/01/22/making-sense-of-the-east-west-divide-in-tech\",\"SchumpeterEast v West, Venus v Mars\")\n",
      "=HYPERLINK(\"https://12ft.io/https://www.economist.com/finance-and-economics/the-race-to-power-the-defi-ecosystem-is-on/21807229\",\"Ethereum and its rivalsBattle of the blockchains\")\n",
      "=HYPERLINK(\"https://12ft.io/https://www.economist.com/finance-and-economics/2022/01/22/americas-labour-shortages-have-done-little-to-boost-perks-for-workers\",\"Employee benefits in AmericaOn the fringe\")\n",
      "=HYPERLINK(\"https://12ft.io/https://www.economist.com/science-and-technology/a-3bn-bet-on-finding-the-fountain-of-youth/21807244\",\"BiotechnologyBackwards ran the sands of time\")\n",
      "=HYPERLINK(\"https://12ft.io/https://www.economist.com/science-and-technology/2022/01/22/illuminating-fishing-nets-may-reduce-by-catch\",\"Marine conservationA green light for saving sharks\")\n",
      "=HYPERLINK(\"https://12ft.io/https://www.economist.com/culture/2022/01/22/beneath-the-rhythm-congolese-rumba-is-a-link-to-the-past\",\"Musical historyThe beat goes home\")\n",
      "=HYPERLINK(\"https://12ft.io/https://www.economist.com/culture/2022/01/22/the-art-of-fasting\",\"World in a dishThe art of fasting\")\n",
      "=HYPERLINK(\"https://12ft.io/https://www.economist.com/culture/2022/01/22/west-side-story-and-the-magic-of-remakes\",\"Back StoryDoing the time warp again\")\n",
      "=HYPERLINK(\"https://12ft.io/https://www.economist.com/economic-and-financial-indicators/2022/01/22/economic-data-commodities-and-markets\",\"IndicatorsEconomic data, commodities and markets\")\n",
      "=HYPERLINK(\"https://12ft.io/https://www.economist.com/graphic-detail/2022/01/22/do-vaccine-mandates-actually-work\",\"Proof-of-vaccine rulesA shot in the arm\")\n",
      "=HYPERLINK(\"https://12ft.io/https://www.economist.com/obituary/2022/01/22/charles-mcgee-faced-adversity-at-home-as-much-as-abroad\",\"Charles McGeeWhat the Red Tails did\")\n",
      "=HYPERLINK(\"https://12ft.io/https://www.economist.com/executiveeducation/newglobalorder/\",\"Executive Education: The New Global Order\")\n",
      "=HYPERLINK(\"https://12ft.io/http://privacyportal.economist.com/\",\"Do Not Sell My Personal Information\")\n"
     ]
    }
   ],
   "source": [
    "for i in range(len(soup.find_all('a'))):\n",
    "    if len(soup.find_all('a')[i].get_text().split())>4:\n",
    "        if soup.find_all('a')[i]['href'].startswith('/'):\n",
    "            print(f'=HYPERLINK(\"https://12ft.io/https://www.economist.com{soup.find_all(\"a\")[i][\"href\"]}\",\"{soup.find_all(\"a\")[i].get_text()}\")')\n",
    "        else:\n",
    "            print(f'=HYPERLINK(\"https://12ft.io/{soup.find_all(\"a\")[i][\"href\"]}\",\"{soup.find_all(\"a\")[i].get_text()}\")')"
   ]
  },
  {
   "cell_type": "markdown",
   "id": "bc45c32f",
   "metadata": {},
   "source": [
    "## NEW YORK TIMES"
   ]
  },
  {
   "cell_type": "code",
   "execution_count": 17,
   "id": "d687c9f0",
   "metadata": {},
   "outputs": [
    {
     "name": "stdout",
     "output_type": "stream",
     "text": [
      "The edition that will be used is of: 21/1/2022\n",
      "This edition was found\n"
     ]
    }
   ],
   "source": [
    "print(f'The edition that will be used is of: {closest_day}/{today.month}/{today.year}')\n",
    "\n",
    "year_link = str(today).split('-')[0]\n",
    "month_link = str(today).split('-')[1]\n",
    "\n",
    "url = f'https://www.nytimes.com/issue/magazine/{year_link}/{month_link}/{closest_day}/the-{today.month}{closest_day+2}22-issue'\n",
    "re = requests.get(url)\n",
    "if re.status_code == 200:\n",
    "    print('This edition was found')\n",
    "else:\n",
    "    print('This edition was not found')"
   ]
  },
  {
   "cell_type": "code",
   "execution_count": 18,
   "id": "3ea3a0e5",
   "metadata": {},
   "outputs": [],
   "source": [
    "soup = BeautifulSoup(re.content, 'html.parser')"
   ]
  },
  {
   "cell_type": "code",
   "execution_count": 19,
   "id": "f6f0b36d",
   "metadata": {},
   "outputs": [
    {
     "name": "stdout",
     "output_type": "stream",
     "text": [
      "=HYPERLINK(\"https://www.nytimes.com/2022/01/16/magazine/ukraine-war.html\",\"In the Trenches of Ukraine’s Forever War\")\n",
      "=HYPERLINK(\"https://www.nytimes.com/2022/01/19/magazine/spillback-animal-disease.html\",\"Animals Infecting Humans Is Scary. It’s Worse When We Infect Them Back.\")\n",
      "=HYPERLINK(\"https://www.nytimes.com/2022/01/18/magazine/ex-nude-pics.html\",\"Can I Ask My Ex to Delete Those Nude Pics?\")\n",
      "=HYPERLINK(\"https://www.nytimes.com/2022/01/19/magazine/trumps-dream-of-a-border-wall-twisted-into-a-sci-fi-nightmare.html\",\"Trump’s Dream of a Border Wall, Twisted Into a Sci-Fi Nightmare\")\n",
      "=HYPERLINK(\"https://www.nytimes.com/2022/01/19/magazine/red-snapper-hawaiian-recipe.html\",\"The Fish That Comes With a Year of Good Luck\")\n",
      "=HYPERLINK(\"https://www.nytimes.com/2022/01/18/magazine/grudge-recommendation.html\",\"Why Holding a Grudge Is So Satisfying\")\n",
      "=HYPERLINK(\"https://www.nytimes.com/2022/01/18/magazine/how-to-survive-an-avalanche.html\",\"How to Survive an Avalanche\")\n",
      "=HYPERLINK(\"https://www.nytimes.com/2022/01/20/magazine/poem-at-last-there-is-yesterday.html\",\"Poem: At Last There Is Yesterday\")\n",
      "=HYPERLINK(\"https://www.nytimes.com/2022/01/20/magazine/dog-bathroom.html\",\"Judge John Hodgman on Letting the Dog Into the Bathroom\")\n"
     ]
    }
   ],
   "source": [
    "for i in range(len(soup.find_all('a'))):\n",
    "    if len(soup.find_all('a')[i].get_text().split())>4:\n",
    "\n",
    "        if soup.find_all('a')[i]['href'].endswith('html'):\n",
    "            print(f'=HYPERLINK(\"https://www.nytimes.com{soup.find_all(\"a\")[i][\"href\"]}\",\"{soup.find_all(\"a\")[i].get_text()}\")')"
   ]
  },
  {
   "cell_type": "markdown",
   "id": "b7d4cc5b",
   "metadata": {},
   "source": [
    "## NEW YORKER"
   ]
  },
  {
   "cell_type": "code",
   "execution_count": 20,
   "id": "aa06bd70",
   "metadata": {},
   "outputs": [],
   "source": [
    "re = requests.get('https://www.newyorker.com/magazine')\n",
    "soup = BeautifulSoup(re.content, 'html.parser')"
   ]
  },
  {
   "cell_type": "code",
   "execution_count": 21,
   "id": "307fe8b0",
   "metadata": {},
   "outputs": [
    {
     "name": "stdout",
     "output_type": "stream",
     "text": [
      "=HYPERLINK(\"https://12ft.io/https://www.newyorker.com/magazine/2022/01/24/the-rise-of-ai-fighter-pilots\",\"The Rise of A.I. Fighter Pilots\")\n",
      "=HYPERLINK(\"https://12ft.io/https://www.newyorker.com/magazine/2022/01/24/thomas-manns-brush-with-darkness\",\"Thomas Mann’s Brush with Darkness\")\n",
      "=HYPERLINK(\"https://12ft.io/https://www.newyorker.com/magazine/2022/01/24/jordan-thomas-army-of-whistle-blowers\",\"Jordan Thomas’s Army of Whistle-Blowers\")\n",
      "=HYPERLINK(\"https://12ft.io/https://www.newyorker.com/magazine/2022/01/24/a-daughters-quest-to-free-her-fathers-killer\",\"A Daughter’s Quest to Free Her Father’s Killer\")\n",
      "=HYPERLINK(\"https://12ft.io/https://www.newyorker.com/magazine/2022/01/24/bambi-is-even-bleaker-than-you-thought\",\"“Bambi” Is Even Bleaker Than You Thought\")\n",
      "=HYPERLINK(\"https://12ft.io/https://www.newyorker.com/magazine/2022/01/24/the-many-visions-of-lorraine-hansberry\",\"The Many Visions of Lorraine Hansberry\")\n",
      "=HYPERLINK(\"https://12ft.io/https://www.newyorker.com/magazine/2022/01/24/the-lost-sheep-of-danny-mcbrides-the-righteous-gemstones\",\"The Lost Sheep of Danny McBride’s “The Righteous Gemstones”\")\n",
      "=HYPERLINK(\"https://12ft.io/https://www.newyorker.com/magazine/2022/01/24/do-the-omicron-numbers-mean-what-we-think-they-mean\",\"Do the Omicron Numbers Mean What We Think They Mean?\")\n",
      "=HYPERLINK(\"https://12ft.io/https://www.newyorker.com/magazine/2022/01/24/the-artists-of-sing-sing\",\"The Artists of Sing Sing\")\n",
      "=HYPERLINK(\"https://12ft.io/https://www.newyorker.com/magazine/2022/01/24/a-sense-of-where-hes-been\",\"A Sense of Where He’s Been\")\n",
      "=HYPERLINK(\"https://12ft.io/https://www.newyorker.com/magazine/2022/01/24/among-the-revellers-at-ondalinda-burning-mans-more-exclusive-cousin\",\"Among the Revellers at Ondalinda, Burning Man’s More Exclusive Cousin\")\n",
      "=HYPERLINK(\"https://12ft.io/https://www.newyorker.com/magazine/talk-of-the-town\",\"More Talk of the Town\")\n",
      "=HYPERLINK(\"https://12ft.io/https://www.newyorker.com/magazine/2022/01/24/wirecutter-recommends-the-best-partner\",\"Wirecutter Recommends: The Best Partner\")\n",
      "=HYPERLINK(\"https://12ft.io/https://www.newyorker.com/magazine/2022/01/24/the-virtual-repertory-cinema-of-mubi\",\"The Virtual Repertory Cinema of MUBI\")\n",
      "=HYPERLINK(\"https://12ft.io/https://www.newyorker.com/magazine/2022/01/24/family-recipes-at-the-michelin-starred-casa-enrique\",\"Family Recipes at the Michelin-Starred Casa Enrique\")\n"
     ]
    }
   ],
   "source": [
    "for i in range(len(soup.find_all('a'))):\n",
    "    if len(soup.find_all('a')[i].get_text().split())>4:\n",
    "        if soup.find_all('a')[i]['href'].startswith('/magazine'):\n",
    "            print(f'=HYPERLINK(\"https://12ft.io/https://www.newyorker.com{soup.find_all(\"a\")[i][\"href\"]}\",\"{soup.find_all(\"a\")[i].get_text()}\")')"
   ]
  },
  {
   "cell_type": "markdown",
   "id": "bff2a8e4",
   "metadata": {},
   "source": [
    "## SCIENTIFIC AMERICAN"
   ]
  },
  {
   "cell_type": "code",
   "execution_count": 22,
   "id": "142f8ec6",
   "metadata": {},
   "outputs": [],
   "source": [
    "url = f'https://www.scientificamerican.com/magazine/sa/2022/{month_link}-01/'\n",
    "re = requests.get(url)\n",
    "soup = BeautifulSoup(re.content, 'html.parser')"
   ]
  },
  {
   "cell_type": "code",
   "execution_count": 23,
   "id": "38386341",
   "metadata": {},
   "outputs": [
    {
     "name": "stdout",
     "output_type": "stream",
     "text": [
      "=HYPERLINK(\"https://12ft.io/https://www.scientificamerican.com/article/an-ancient-greek-astronomical-calculation-machine-reveals-new-secrets/\",\"An Ancient Greek Astronomical Calculation Machine Reveals New Secrets\")\n",
      "=HYPERLINK(\"https://12ft.io/https://www.scientificamerican.com/article/citizen-militias-in-the-u-s-are-moving-toward-more-violent-extremism/\",\"Citizen Militias in the U.S. Are Moving toward More Violent Extremism\")\n",
      "=HYPERLINK(\"https://12ft.io/https://www.scientificamerican.com/article/fossils-reveal-when-animals-started-making-noise/\",\"Fossils Reveal When Animals Started Making Noise\")\n",
      "=HYPERLINK(\"https://12ft.io/https://www.scientificamerican.com/article/borderline-personality-disorder-may-be-rooted-in-trauma/\",\"Borderline Personality Disorder May Be Rooted in Trauma\")\n",
      "=HYPERLINK(\"https://12ft.io/https://www.scientificamerican.com/article/these-shellfish-could-kill-you/\",\"These Shellfish Could Kill You\")\n",
      "=HYPERLINK(\"https://12ft.io/https://www.scientificamerican.com/article/this-simple-experiment-could-challenge-standard-quantum-theory/\",\"Can We Gauge Quantum Time of Flight?\")\n",
      "=HYPERLINK(\"https://12ft.io/https://www.scientificamerican.com/article/new-insights-into-ancient-greeces-planetary-motion-machine/\",\"New Insights into Ancient Greece's Planetary Motion Machine\")\n",
      "=HYPERLINK(\"https://12ft.io/https://www.scientificamerican.com/article/readers-respond-to-the-september-2021-issue/\",\"Readers Respond to the September 2021 Issue\")\n",
      "=HYPERLINK(\"https://12ft.io/https://www.scientificamerican.com/article/giant-lemurs-are-the-first-mammals-besides-us-found-to-use-musical-rhythm/\",\"Giant Lemurs Are the First Mammals (besides Us) Found to Use Musical Rhythm\")\n",
      "=HYPERLINK(\"https://12ft.io/https://www.scientificamerican.com/article/desert-beetles-rely-on-oral-sex-for-successful-mating/\",\"Desert Beetles Rely on Oral Sex for Successful Mating\")\n",
      "=HYPERLINK(\"https://12ft.io/https://www.scientificamerican.com/article/prehistoric-volcanoes-heated-earth-in-a-global-chain-reaction/\",\"Prehistoric Volcanoes Heated Earth in a Global Chain Reaction\")\n",
      "=HYPERLINK(\"https://12ft.io/https://www.scientificamerican.com/article/recycled-tennis-balls-could-protect-buildings-from-earthquakes/\",\"Recycled Tennis Balls Could Protect Buildings from Earthquakes\")\n",
      "=HYPERLINK(\"https://12ft.io/https://www.scientificamerican.com/article/3-d-printed-chicken-dinner-cooked-by-lasers/\",\"3-D-Printed Chicken Dinner Cooked by Lasers\")\n",
      "=HYPERLINK(\"https://12ft.io/https://www.scientificamerican.com/article/potty-training-cows-and-other-messy-stories-from-the-animal-kingdom/\",\"Potty Training Cows and Other Messy Stories from the Animal Kingdom\")\n",
      "=HYPERLINK(\"https://12ft.io/https://www.scientificamerican.com/article/in-case-you-missed-it55/\",\"In Case You Missed It\")\n",
      "=HYPERLINK(\"https://12ft.io/https://www.scientificamerican.com/article/new-bait-uses-mosquitoes-love-of-malaria-parasite-to-bite-them-back/\",\"New Bait Uses Mosquitoes' Love of Malaria Parasite to Bite Them Back\")\n",
      "=HYPERLINK(\"https://12ft.io/https://www.scientificamerican.com/article/new-technology-monitors-collapsing-glaciers/\",\"New Technology Monitors Collapsing Glaciers\")\n",
      "=HYPERLINK(\"https://12ft.io/https://www.scientificamerican.com/article/gene-variant-may-have-helped-ancient-humans-survive-starvation/\",\"Gene Variant May Have Helped Ancient Humans Survive Starvation\")\n",
      "=HYPERLINK(\"https://12ft.io/https://www.scientificamerican.com/article/seashells-inspire-new-superstrong-glass-composite/\",\"Seashells Inspire New Superstrong Glass Composite\")\n",
      "=HYPERLINK(\"https://12ft.io/https://www.scientificamerican.com/article/hungry-hyenas-can-help-human-health/\",\"Hungry Hyenas Can Help Human Health\")\n",
      "=HYPERLINK(\"https://12ft.io/https://www.scientificamerican.com/article/the-fda-should-better-regulate-medical-algorithms/\",\"Medical Algorithms Need Better Regulation\")\n",
      "=HYPERLINK(\"https://12ft.io/https://www.scientificamerican.com/article/the-pandemic-has-created-a-zoom-boom-in-remote-psychotherapy/\",\"The Pandemic Has Created a 'Zoom Boom' in Remote Psychotherapy\")\n",
      "=HYPERLINK(\"https://12ft.io/https://www.scientificamerican.com/article/a-near-future-plague-the-neuroscience-of-navigation-and-more/\",\"A Near-Future Plague, the Neuroscience of Navigation, and More\")\n",
      "=HYPERLINK(\"https://12ft.io/https://www.scientificamerican.com/article/50-100-150-years-ago-january-2022/\",\"50, 100 & 150 Years Ago: January 2022\")\n",
      "=HYPERLINK(\"https://12ft.io/https://www.scientificamerican.com/article/what-is-a-lagrange-point/\",\"What Is a Lagrange Point?\")\n",
      "=HYPERLINK(\"https://12ft.io/https://www.scientificamerican.com/article/eating-less-red-meat-is-something-individuals-can-do-to-help-the-climate-crisis/\",\"Eating Less Red Meat Is Something Individuals Can Do to Help the Climate Crisis\")\n",
      "=HYPERLINK(\"https://12ft.io/javascript:Optanon.ToggleInfoDisplay()\",\"Use of cookies/Do not sell my data\")\n"
     ]
    }
   ],
   "source": [
    "for i in range(len(soup.find_all('a'))):\n",
    "    if len(soup.find_all('a')[i].get_text().split())>4:\n",
    "        print(f'=HYPERLINK(\"https://12ft.io/{soup.find_all(\"a\")[i][\"href\"]}\",\"{soup.find_all(\"a\")[i].get_text()}\")')"
   ]
  }
 ],
 "metadata": {
  "kernelspec": {
   "display_name": "Python 3",
   "language": "python",
   "name": "python3"
  },
  "language_info": {
   "codemirror_mode": {
    "name": "ipython",
    "version": 3
   },
   "file_extension": ".py",
   "mimetype": "text/x-python",
   "name": "python",
   "nbconvert_exporter": "python",
   "pygments_lexer": "ipython3",
   "version": "3.9.5"
  }
 },
 "nbformat": 4,
 "nbformat_minor": 5
}
